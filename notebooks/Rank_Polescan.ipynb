{
 "cells": [
  {
   "cell_type": "code",
   "execution_count": 2,
   "metadata": {},
   "outputs": [],
   "source": [
    "import sys\n",
    "sys.path.append('/home/rcannon/Code/Radar/python_scripts')"
   ]
  },
  {
   "cell_type": "code",
   "execution_count": 3,
   "metadata": {},
   "outputs": [],
   "source": [
    "import numpy as np\n",
    "import glob\n",
    "from pyshape import log_file"
   ]
  },
  {
   "cell_type": "code",
   "execution_count": 4,
   "metadata": {},
   "outputs": [
    {
     "name": "stdout",
     "output_type": "stream",
     "text": [
      "['/home/rcannon/Code/Radar/2000rs11/v02/v1000cw/logfiles/lat-60lon244.log'\n",
      " '/home/rcannon/Code/Radar/2000rs11/v02/v1000cw/logfiles/lat-60lon276.log'\n",
      " '/home/rcannon/Code/Radar/2000rs11/v02/v1000cw/logfiles/lat-60lon284.log'\n",
      " '/home/rcannon/Code/Radar/2000rs11/v02/v1000cw/logfiles/lat-65lon220.log'\n",
      " '/home/rcannon/Code/Radar/2000rs11/v02/v1000cw/logfiles/lat-65lon230.log'\n",
      " '/home/rcannon/Code/Radar/2000rs11/v02/v1000cw/logfiles/lat-65lon250.log'\n",
      " '/home/rcannon/Code/Radar/2000rs11/v02/v1000cw/logfiles/lat-65lon260.log'\n",
      " '/home/rcannon/Code/Radar/2000rs11/v02/v1000cw/logfiles/lat-65lon270.log'\n",
      " '/home/rcannon/Code/Radar/2000rs11/v02/v1000cw/logfiles/lat-65lon280.log'\n",
      " '/home/rcannon/Code/Radar/2000rs11/v02/v1000cw/logfiles/lat-65lon290.log'\n",
      " '/home/rcannon/Code/Radar/2000rs11/v02/v1000cw/logfiles/lat-70lon192.log'\n",
      " '/home/rcannon/Code/Radar/2000rs11/v02/v1000cw/logfiles/lat-70lon204.log'\n",
      " '/home/rcannon/Code/Radar/2000rs11/v02/v1000cw/logfiles/lat-70lon216.log'\n",
      " '/home/rcannon/Code/Radar/2000rs11/v02/v1000cw/logfiles/lat-70lon228.log'\n",
      " '/home/rcannon/Code/Radar/2000rs11/v02/v1000cw/logfiles/lat-70lon240.log'\n",
      " '/home/rcannon/Code/Radar/2000rs11/v02/v1000cw/logfiles/lat-70lon252.log'\n",
      " '/home/rcannon/Code/Radar/2000rs11/v02/v1000cw/logfiles/lat-70lon264.log'\n",
      " '/home/rcannon/Code/Radar/2000rs11/v02/v1000cw/logfiles/lat-70lon276.log'\n",
      " '/home/rcannon/Code/Radar/2000rs11/v02/v1000cw/logfiles/lat-70lon288.log'\n",
      " '/home/rcannon/Code/Radar/2000rs11/v02/v1000cw/logfiles/lat-75lon195.log'\n",
      " '/home/rcannon/Code/Radar/2000rs11/v02/v1000cw/logfiles/lat-75lon210.log'\n",
      " '/home/rcannon/Code/Radar/2000rs11/v02/v1000cw/logfiles/lat-75lon225.log'\n",
      " '/home/rcannon/Code/Radar/2000rs11/v02/v1000cw/logfiles/lat-75lon240.log'\n",
      " '/home/rcannon/Code/Radar/2000rs11/v02/v1000cw/logfiles/lat-75lon255.log'\n",
      " '/home/rcannon/Code/Radar/2000rs11/v02/v1000cw/logfiles/lat-75lon270.log'\n",
      " '/home/rcannon/Code/Radar/2000rs11/v02/v1000cw/logfiles/lat-75lon285.log'\n",
      " '/home/rcannon/Code/Radar/2000rs11/v02/v1000cw/logfiles/lat-80lon204.log'\n",
      " '/home/rcannon/Code/Radar/2000rs11/v02/v1000cw/logfiles/lat-80lon228.log'\n",
      " '/home/rcannon/Code/Radar/2000rs11/v02/v1000cw/logfiles/lat-80lon252.log'\n",
      " '/home/rcannon/Code/Radar/2000rs11/v02/v1000cw/logfiles/lat-80lon276.log'\n",
      " '/home/rcannon/Code/Radar/2000rs11/v02/v1000cw/logfiles/lat-85lon220.log'\n",
      " '/home/rcannon/Code/Radar/2000rs11/v02/v1000cw/logfiles/lat-85lon260.log']\n"
     ]
    }
   ],
   "source": [
    "target='2000rs11'\n",
    "data_path = f'/home/rcannon/Code/Radar/{target}/v02/v1000cw'\n",
    "log_files = np.array(sorted(glob.glob(f'{data_path}/logfiles/*')))\n",
    "print(log_files)"
   ]
  },
  {
   "cell_type": "code",
   "execution_count": 5,
   "metadata": {},
   "outputs": [],
   "source": [
    "alldata_chi = []\n",
    "dd_chi,cw_chi,lc_chi = [],[],[]\n",
    "for log in log_files:\n",
    "    chi = log_file.read(log)\n",
    "    alldata_chi.append(chi['ALLDATA'])\n",
    "    dd_chi.append(chi['delay'])\n",
    "    cw_chi.append(chi['Doppler'])\n",
    "    lc_chi.append(chi['lghtcrv'])\n",
    "alldata_chi = np.array(alldata_chi)"
   ]
  },
  {
   "cell_type": "code",
   "execution_count": 6,
   "metadata": {},
   "outputs": [
    {
     "name": "stdout",
     "output_type": "stream",
     "text": [
      "1.423176 /home/rcannon/Code/Radar/2000rs11/v02/v1000cw/logfiles/lat-75lon240.log\n",
      "1.426143 /home/rcannon/Code/Radar/2000rs11/v02/v1000cw/logfiles/lat-75lon210.log\n",
      "1.431458 /home/rcannon/Code/Radar/2000rs11/v02/v1000cw/logfiles/lat-75lon255.log\n",
      "1.43276 /home/rcannon/Code/Radar/2000rs11/v02/v1000cw/logfiles/lat-75lon285.log\n",
      "1.440903 /home/rcannon/Code/Radar/2000rs11/v02/v1000cw/logfiles/lat-70lon216.log\n",
      "1.448922 /home/rcannon/Code/Radar/2000rs11/v02/v1000cw/logfiles/lat-70lon240.log\n",
      "1.451048 /home/rcannon/Code/Radar/2000rs11/v02/v1000cw/logfiles/lat-60lon244.log\n",
      "1.463685 /home/rcannon/Code/Radar/2000rs11/v02/v1000cw/logfiles/lat-65lon230.log\n",
      "1.48884 /home/rcannon/Code/Radar/2000rs11/v02/v1000cw/logfiles/lat-75lon270.log\n",
      "1.489417 /home/rcannon/Code/Radar/2000rs11/v02/v1000cw/logfiles/lat-85lon220.log\n",
      "1.493794 /home/rcannon/Code/Radar/2000rs11/v02/v1000cw/logfiles/lat-60lon276.log\n",
      "1.498419 /home/rcannon/Code/Radar/2000rs11/v02/v1000cw/logfiles/lat-80lon276.log\n",
      "1.50885 /home/rcannon/Code/Radar/2000rs11/v02/v1000cw/logfiles/lat-70lon264.log\n",
      "1.523167 /home/rcannon/Code/Radar/2000rs11/v02/v1000cw/logfiles/lat-70lon276.log\n",
      "1.540146 /home/rcannon/Code/Radar/2000rs11/v02/v1000cw/logfiles/lat-60lon284.log\n",
      "1.543091 /home/rcannon/Code/Radar/2000rs11/v02/v1000cw/logfiles/lat-65lon250.log\n",
      "1.549453 /home/rcannon/Code/Radar/2000rs11/v02/v1000cw/logfiles/lat-65lon270.log\n",
      "1.5531 /home/rcannon/Code/Radar/2000rs11/v02/v1000cw/logfiles/lat-70lon192.log\n",
      "1.559088 /home/rcannon/Code/Radar/2000rs11/v02/v1000cw/logfiles/lat-80lon252.log\n",
      "1.559687 /home/rcannon/Code/Radar/2000rs11/v02/v1000cw/logfiles/lat-65lon280.log\n",
      "1.56279 /home/rcannon/Code/Radar/2000rs11/v02/v1000cw/logfiles/lat-85lon260.log\n",
      "1.564435 /home/rcannon/Code/Radar/2000rs11/v02/v1000cw/logfiles/lat-75lon225.log\n",
      "1.564447 /home/rcannon/Code/Radar/2000rs11/v02/v1000cw/logfiles/lat-80lon228.log\n",
      "1.571437 /home/rcannon/Code/Radar/2000rs11/v02/v1000cw/logfiles/lat-80lon204.log\n",
      "1.572154 /home/rcannon/Code/Radar/2000rs11/v02/v1000cw/logfiles/lat-70lon252.log\n",
      "1.586144 /home/rcannon/Code/Radar/2000rs11/v02/v1000cw/logfiles/lat-65lon260.log\n",
      "1.587194 /home/rcannon/Code/Radar/2000rs11/v02/v1000cw/logfiles/lat-65lon290.log\n",
      "1.591492 /home/rcannon/Code/Radar/2000rs11/v02/v1000cw/logfiles/lat-75lon195.log\n",
      "1.595516 /home/rcannon/Code/Radar/2000rs11/v02/v1000cw/logfiles/lat-70lon204.log\n",
      "1.597528 /home/rcannon/Code/Radar/2000rs11/v02/v1000cw/logfiles/lat-70lon288.log\n",
      "1.613124 /home/rcannon/Code/Radar/2000rs11/v02/v1000cw/logfiles/lat-70lon228.log\n",
      "1.636585 /home/rcannon/Code/Radar/2000rs11/v02/v1000cw/logfiles/lat-65lon220.log\n"
     ]
    }
   ],
   "source": [
    "sort_idx = np.argsort(alldata_chi)\n",
    "for chi,l in zip(np.sort(alldata_chi),log_files[sort_idx]):\n",
    "    print(chi,l)"
   ]
  },
  {
   "cell_type": "code",
   "execution_count": 6,
   "metadata": {},
   "outputs": [
    {
     "name": "stdout",
     "output_type": "stream",
     "text": [
      "1.408421 /home/rcannon/Code/Radar/2000rs11/v02/v500cw/logfiles/lat-75lon210.log\n",
      "1.409477 /home/rcannon/Code/Radar/2000rs11/v02/v500cw/logfiles/lat-75lon285.log\n",
      "1.409686 /home/rcannon/Code/Radar/2000rs11/v02/v500cw/logfiles/lat-75lon240.log\n",
      "1.414624 /home/rcannon/Code/Radar/2000rs11/v02/v500cw/logfiles/lat-75lon255.log\n",
      "1.419281 /home/rcannon/Code/Radar/2000rs11/v02/v500cw/logfiles/lat-70lon216.log\n",
      "1.420176 /home/rcannon/Code/Radar/2000rs11/v02/v500cw/logfiles/lat-60lon244.log\n",
      "1.427356 /home/rcannon/Code/Radar/2000rs11/v02/v500cw/logfiles/lat-70lon240.log\n",
      "1.431093 /home/rcannon/Code/Radar/2000rs11/v02/v500cw/logfiles/lat-65lon230.log\n",
      "1.464845 /home/rcannon/Code/Radar/2000rs11/v02/v500cw/logfiles/lat-60lon276.log\n",
      "1.47006 /home/rcannon/Code/Radar/2000rs11/v02/v500cw/logfiles/lat-85lon220.log\n",
      "1.475032 /home/rcannon/Code/Radar/2000rs11/v02/v500cw/logfiles/lat-80lon276.log\n",
      "1.475065 /home/rcannon/Code/Radar/2000rs11/v02/v500cw/logfiles/lat-75lon270.log\n",
      "1.47874 /home/rcannon/Code/Radar/2000rs11/v02/v500cw/logfiles/lat-70lon264.log\n",
      "1.513591 /home/rcannon/Code/Radar/2000rs11/v02/v500cw/logfiles/lat-70lon192.log\n",
      "1.515189 /home/rcannon/Code/Radar/2000rs11/v02/v500cw/logfiles/lat-65lon250.log\n",
      "1.515235 /home/rcannon/Code/Radar/2000rs11/v02/v500cw/logfiles/lat-70lon276.log\n",
      "1.525192 /home/rcannon/Code/Radar/2000rs11/v02/v500cw/logfiles/lat-60lon284.log\n",
      "1.542513 /home/rcannon/Code/Radar/2000rs11/v02/v500cw/logfiles/lat-65lon270.log\n",
      "1.553089 /home/rcannon/Code/Radar/2000rs11/v02/v500cw/logfiles/lat-85lon260.log\n",
      "1.55544 /home/rcannon/Code/Radar/2000rs11/v02/v500cw/logfiles/lat-80lon252.log\n",
      "1.556432 /home/rcannon/Code/Radar/2000rs11/v02/v500cw/logfiles/lat-70lon252.log\n",
      "1.55923 /home/rcannon/Code/Radar/2000rs11/v02/v500cw/logfiles/lat-65lon280.log\n",
      "1.559709 /home/rcannon/Code/Radar/2000rs11/v02/v500cw/logfiles/lat-75lon225.log\n",
      "1.572356 /home/rcannon/Code/Radar/2000rs11/v02/v500cw/logfiles/lat-65lon260.log\n",
      "1.575427 /home/rcannon/Code/Radar/2000rs11/v02/v500cw/logfiles/lat-70lon288.log\n",
      "1.57551 /home/rcannon/Code/Radar/2000rs11/v02/v500cw/logfiles/lat-65lon290.log\n",
      "1.577038 /home/rcannon/Code/Radar/2000rs11/v02/v500cw/logfiles/lat-80lon204.log\n",
      "1.583276 /home/rcannon/Code/Radar/2000rs11/v02/v500cw/logfiles/lat-80lon228.log\n",
      "1.588986 /home/rcannon/Code/Radar/2000rs11/v02/v500cw/logfiles/lat-70lon204.log\n",
      "1.59718 /home/rcannon/Code/Radar/2000rs11/v02/v500cw/logfiles/lat-70lon228.log\n",
      "1.600771 /home/rcannon/Code/Radar/2000rs11/v02/v500cw/logfiles/lat-75lon195.log\n",
      "1.639356 /home/rcannon/Code/Radar/2000rs11/v02/v500cw/logfiles/lat-65lon220.log\n"
     ]
    }
   ],
   "source": [
    "sort_idx = np.argsort(dd_chi)\n",
    "for chi,l in zip(np.sort(dd_chi),log_files[sort_idx]):\n",
    "    print(chi,l)"
   ]
  },
  {
   "cell_type": "code",
   "execution_count": 7,
   "metadata": {},
   "outputs": [
    {
     "name": "stdout",
     "output_type": "stream",
     "text": [
      "32.027679 /home/rcannon/Code/Radar/2000rs11/v04/v1000/logfiles/lat-80lon270.log\n",
      "39.635438 /home/rcannon/Code/Radar/2000rs11/v04/v1000/logfiles/lat-80lon180.log\n",
      "44.903014 /home/rcannon/Code/Radar/2000rs11/v04/v1000/logfiles/lat-70lon210.log\n",
      "46.881148 /home/rcannon/Code/Radar/2000rs11/v04/v1000/logfiles/lat-70lon240.log\n",
      "51.754717 /home/rcannon/Code/Radar/2000rs11/v04/v1000/logfiles/lat-70lon300.log\n",
      "52.149827 /home/rcannon/Code/Radar/2000rs11/v04/v1000/logfiles/lat-70lon270.log\n",
      "58.666338 /home/rcannon/Code/Radar/2000rs11/v04/v1000/logfiles/lat-80lon225.log\n",
      "62.476538 /home/rcannon/Code/Radar/2000rs11/v04/v1000/logfiles/lat-60lon280.log\n",
      "68.285107 /home/rcannon/Code/Radar/2000rs11/v04/v1000/logfiles/lat-60lon300.log\n",
      "71.00293 /home/rcannon/Code/Radar/2000rs11/v04/v1000/logfiles/lat-60lon240.log\n",
      "76.650426 /home/rcannon/Code/Radar/2000rs11/v04/v1000/logfiles/lat-50lon285.log\n",
      "164.922692 /home/rcannon/Code/Radar/2000rs11/v04/v1000/logfiles/lat-50lon270.log\n"
     ]
    }
   ],
   "source": [
    "sort_idx = np.argsort(lc_chi)\n",
    "for chi,l in zip(np.sort(lc_chi),log_files[sort_idx]):\n",
    "    print(chi,l)"
   ]
  },
  {
   "cell_type": "code",
   "execution_count": 8,
   "metadata": {},
   "outputs": [
    {
     "name": "stdout",
     "output_type": "stream",
     "text": [
      "1034.390615 /home/rcannon/Code/Radar/2000rs11/v04/v1000/logfiles/lat-70lon210.log\n",
      "1070.709206 /home/rcannon/Code/Radar/2000rs11/v04/v1000/logfiles/lat-70lon240.log\n",
      "1202.228424 /home/rcannon/Code/Radar/2000rs11/v04/v1000/logfiles/lat-60lon240.log\n",
      "1211.262575 /home/rcannon/Code/Radar/2000rs11/v04/v1000/logfiles/lat-80lon180.log\n",
      "1254.603251 /home/rcannon/Code/Radar/2000rs11/v04/v1000/logfiles/lat-50lon285.log\n",
      "1259.126385 /home/rcannon/Code/Radar/2000rs11/v04/v1000/logfiles/lat-70lon270.log\n",
      "1293.282652 /home/rcannon/Code/Radar/2000rs11/v04/v1000/logfiles/lat-60lon280.log\n",
      "1467.556966 /home/rcannon/Code/Radar/2000rs11/v04/v1000/logfiles/lat-80lon270.log\n",
      "1504.340714 /home/rcannon/Code/Radar/2000rs11/v04/v1000/logfiles/lat-80lon225.log\n",
      "1576.513136 /home/rcannon/Code/Radar/2000rs11/v04/v1000/logfiles/lat-50lon270.log\n",
      "1588.511996 /home/rcannon/Code/Radar/2000rs11/v04/v1000/logfiles/lat-60lon300.log\n",
      "1711.01637 /home/rcannon/Code/Radar/2000rs11/v04/v1000/logfiles/lat-70lon300.log\n"
     ]
    }
   ],
   "source": [
    "sort_idx = np.argsort(cw_chi)\n",
    "for chi,l in zip(np.sort(cw_chi),log_files[sort_idx]):\n",
    "    print(chi,l)"
   ]
  },
  {
   "cell_type": "code",
   "execution_count": null,
   "metadata": {},
   "outputs": [],
   "source": []
  }
 ],
 "metadata": {
  "kernelspec": {
   "display_name": "base",
   "language": "python",
   "name": "python3"
  },
  "language_info": {
   "codemirror_mode": {
    "name": "ipython",
    "version": 3
   },
   "file_extension": ".py",
   "mimetype": "text/x-python",
   "name": "python",
   "nbconvert_exporter": "python",
   "pygments_lexer": "ipython3",
   "version": "3.13.2"
  }
 },
 "nbformat": 4,
 "nbformat_minor": 2
}
