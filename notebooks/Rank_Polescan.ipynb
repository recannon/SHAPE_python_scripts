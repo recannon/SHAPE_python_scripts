{
 "cells": [
  {
   "cell_type": "code",
   "execution_count": 2,
   "metadata": {},
   "outputs": [],
   "source": [
    "import sys\n",
    "sys.path.append('/home/rcannon/Code/Radar/python_scripts')"
   ]
  },
  {
   "cell_type": "code",
   "execution_count": 1,
   "metadata": {},
   "outputs": [],
   "source": [
    "import numpy as np\n",
    "import glob\n",
    "from pyshape import log_file"
   ]
  },
  {
   "cell_type": "code",
   "execution_count": 4,
   "metadata": {},
   "outputs": [
    {
     "name": "stdout",
     "output_type": "stream",
     "text": [
      "['/home/rcannon/Code/Radar/2000rs11/v03/v500_10s/logfiles/lat-60lon244.log'\n",
      " '/home/rcannon/Code/Radar/2000rs11/v03/v500_10s/logfiles/lat-60lon276.log'\n",
      " '/home/rcannon/Code/Radar/2000rs11/v03/v500_10s/logfiles/lat-60lon280.log'\n",
      " '/home/rcannon/Code/Radar/2000rs11/v03/v500_10s/logfiles/lat-60lon284.log'\n",
      " '/home/rcannon/Code/Radar/2000rs11/v03/v500_10s/logfiles/lat-65lon220.log'\n",
      " '/home/rcannon/Code/Radar/2000rs11/v03/v500_10s/logfiles/lat-65lon230.log'\n",
      " '/home/rcannon/Code/Radar/2000rs11/v03/v500_10s/logfiles/lat-65lon240.log'\n",
      " '/home/rcannon/Code/Radar/2000rs11/v03/v500_10s/logfiles/lat-65lon250.log'\n",
      " '/home/rcannon/Code/Radar/2000rs11/v03/v500_10s/logfiles/lat-65lon260.log'\n",
      " '/home/rcannon/Code/Radar/2000rs11/v03/v500_10s/logfiles/lat-65lon270.log'\n",
      " '/home/rcannon/Code/Radar/2000rs11/v03/v500_10s/logfiles/lat-65lon280.log'\n",
      " '/home/rcannon/Code/Radar/2000rs11/v03/v500_10s/logfiles/lat-65lon290.log'\n",
      " '/home/rcannon/Code/Radar/2000rs11/v03/v500_10s/logfiles/lat-70lon192.log'\n",
      " '/home/rcannon/Code/Radar/2000rs11/v03/v500_10s/logfiles/lat-70lon204.log'\n",
      " '/home/rcannon/Code/Radar/2000rs11/v03/v500_10s/logfiles/lat-70lon210.log'\n",
      " '/home/rcannon/Code/Radar/2000rs11/v03/v500_10s/logfiles/lat-70lon216.log'\n",
      " '/home/rcannon/Code/Radar/2000rs11/v03/v500_10s/logfiles/lat-70lon228.log'\n",
      " '/home/rcannon/Code/Radar/2000rs11/v03/v500_10s/logfiles/lat-70lon240.log'\n",
      " '/home/rcannon/Code/Radar/2000rs11/v03/v500_10s/logfiles/lat-70lon252.log'\n",
      " '/home/rcannon/Code/Radar/2000rs11/v03/v500_10s/logfiles/lat-70lon264.log'\n",
      " '/home/rcannon/Code/Radar/2000rs11/v03/v500_10s/logfiles/lat-70lon270.log'\n",
      " '/home/rcannon/Code/Radar/2000rs11/v03/v500_10s/logfiles/lat-70lon276.log'\n",
      " '/home/rcannon/Code/Radar/2000rs11/v03/v500_10s/logfiles/lat-70lon288.log'\n",
      " '/home/rcannon/Code/Radar/2000rs11/v03/v500_10s/logfiles/lat-75lon195.log'\n",
      " '/home/rcannon/Code/Radar/2000rs11/v03/v500_10s/logfiles/lat-75lon210.log'\n",
      " '/home/rcannon/Code/Radar/2000rs11/v03/v500_10s/logfiles/lat-75lon225.log'\n",
      " '/home/rcannon/Code/Radar/2000rs11/v03/v500_10s/logfiles/lat-75lon240.log'\n",
      " '/home/rcannon/Code/Radar/2000rs11/v03/v500_10s/logfiles/lat-75lon255.log'\n",
      " '/home/rcannon/Code/Radar/2000rs11/v03/v500_10s/logfiles/lat-75lon270.log'\n",
      " '/home/rcannon/Code/Radar/2000rs11/v03/v500_10s/logfiles/lat-75lon285.log'\n",
      " '/home/rcannon/Code/Radar/2000rs11/v03/v500_10s/logfiles/lat-80lon204.log'\n",
      " '/home/rcannon/Code/Radar/2000rs11/v03/v500_10s/logfiles/lat-80lon225.log'\n",
      " '/home/rcannon/Code/Radar/2000rs11/v03/v500_10s/logfiles/lat-80lon228.log'\n",
      " '/home/rcannon/Code/Radar/2000rs11/v03/v500_10s/logfiles/lat-80lon252.log'\n",
      " '/home/rcannon/Code/Radar/2000rs11/v03/v500_10s/logfiles/lat-80lon270.log']\n"
     ]
    }
   ],
   "source": [
    "target='2000rs11'\n",
    "data_path = f'/home/rcannon/Code/Radar/{target}/v03/v500_10s'\n",
    "\n",
    "# target='2024on'\n",
    "# data_path = f'/home/rcannon/Code/Radar/{target}/init_ps'\n",
    "log_files = np.array(sorted(glob.glob(f'{data_path}/logfiles/*')))\n",
    "print(log_files)"
   ]
  },
  {
   "cell_type": "code",
   "execution_count": 5,
   "metadata": {},
   "outputs": [
    {
     "name": "stdout",
     "output_type": "stream",
     "text": [
      "/home/rcannon/Code/Radar/2000rs11/v03/v500_10s/logfiles/lat-60lon280.log error\n"
     ]
    },
    {
     "name": "stdout",
     "output_type": "stream",
     "text": [
      "/home/rcannon/Code/Radar/2000rs11/v03/v500_10s/logfiles/lat-65lon240.log error\n",
      "/home/rcannon/Code/Radar/2000rs11/v03/v500_10s/logfiles/lat-70lon210.log error\n"
     ]
    }
   ],
   "source": [
    "alldata_chi = []\n",
    "dd_chi,cw_chi,lc_chi = [],[],[]\n",
    "for log in log_files:\n",
    "    try:\n",
    "        chi = log_file.read(log)\n",
    "        alldata_chi.append(chi['ALLDATA'])\n",
    "        dd_chi.append(chi['delay'])\n",
    "        cw_chi.append(chi['Doppler'])\n",
    "        lc_chi.append(chi['lghtcrv'])\n",
    "    except:\n",
    "        print(log, 'error')\n",
    "alldata_chi = np.array(alldata_chi)"
   ]
  },
  {
   "cell_type": "code",
   "execution_count": 6,
   "metadata": {},
   "outputs": [
    {
     "name": "stdout",
     "output_type": "stream",
     "text": [
      "0.936893 /home/rcannon/Code/Radar/2000rs11/v03/v500_10s/logfiles/lat-75lon210.log\n",
      "0.942261 /home/rcannon/Code/Radar/2000rs11/v03/v500_10s/logfiles/lat-70lon210.log\n",
      "0.944401 /home/rcannon/Code/Radar/2000rs11/v03/v500_10s/logfiles/lat-75lon240.log\n",
      "0.948201 /home/rcannon/Code/Radar/2000rs11/v03/v500_10s/logfiles/lat-75lon195.log\n",
      "0.951077 /home/rcannon/Code/Radar/2000rs11/v03/v500_10s/logfiles/lat-60lon244.log\n",
      "0.951423 /home/rcannon/Code/Radar/2000rs11/v03/v500_10s/logfiles/lat-70lon276.log\n",
      "0.955528 /home/rcannon/Code/Radar/2000rs11/v03/v500_10s/logfiles/lat-65lon220.log\n",
      "0.9577 /home/rcannon/Code/Radar/2000rs11/v03/v500_10s/logfiles/lat-70lon192.log\n",
      "0.975591 /home/rcannon/Code/Radar/2000rs11/v03/v500_10s/logfiles/lat-60lon276.log\n",
      "0.991943 /home/rcannon/Code/Radar/2000rs11/v03/v500_10s/logfiles/lat-70lon228.log\n",
      "1.008061 /home/rcannon/Code/Radar/2000rs11/v03/v500_10s/logfiles/lat-75lon225.log\n",
      "1.008463 /home/rcannon/Code/Radar/2000rs11/v03/v500_10s/logfiles/lat-70lon252.log\n",
      "1.009872 /home/rcannon/Code/Radar/2000rs11/v03/v500_10s/logfiles/lat-65lon230.log\n",
      "1.010607 /home/rcannon/Code/Radar/2000rs11/v03/v500_10s/logfiles/lat-65lon240.log\n",
      "1.011407 /home/rcannon/Code/Radar/2000rs11/v03/v500_10s/logfiles/lat-65lon250.log\n",
      "1.014664 /home/rcannon/Code/Radar/2000rs11/v03/v500_10s/logfiles/lat-70lon216.log\n",
      "1.016053 /home/rcannon/Code/Radar/2000rs11/v03/v500_10s/logfiles/lat-60lon280.log\n",
      "1.016669 /home/rcannon/Code/Radar/2000rs11/v03/v500_10s/logfiles/lat-65lon260.log\n",
      "1.016994 /home/rcannon/Code/Radar/2000rs11/v03/v500_10s/logfiles/lat-70lon288.log\n",
      "1.02053 /home/rcannon/Code/Radar/2000rs11/v03/v500_10s/logfiles/lat-65lon280.log\n",
      "1.021222 /home/rcannon/Code/Radar/2000rs11/v03/v500_10s/logfiles/lat-70lon204.log\n",
      "1.021785 /home/rcannon/Code/Radar/2000rs11/v03/v500_10s/logfiles/lat-70lon264.log\n",
      "1.023277 /home/rcannon/Code/Radar/2000rs11/v03/v500_10s/logfiles/lat-75lon255.log\n",
      "1.024438 /home/rcannon/Code/Radar/2000rs11/v03/v500_10s/logfiles/lat-70lon240.log\n",
      "1.028053 /home/rcannon/Code/Radar/2000rs11/v03/v500_10s/logfiles/lat-80lon204.log\n",
      "1.029256 /home/rcannon/Code/Radar/2000rs11/v03/v500_10s/logfiles/lat-75lon270.log\n",
      "1.02987 /home/rcannon/Code/Radar/2000rs11/v03/v500_10s/logfiles/lat-65lon290.log\n",
      "1.032627 /home/rcannon/Code/Radar/2000rs11/v03/v500_10s/logfiles/lat-60lon284.log\n",
      "1.032637 /home/rcannon/Code/Radar/2000rs11/v03/v500_10s/logfiles/lat-75lon285.log\n",
      "1.03756 /home/rcannon/Code/Radar/2000rs11/v03/v500_10s/logfiles/lat-80lon225.log\n",
      "1.045064 /home/rcannon/Code/Radar/2000rs11/v03/v500_10s/logfiles/lat-65lon270.log\n",
      "1.047575 /home/rcannon/Code/Radar/2000rs11/v03/v500_10s/logfiles/lat-70lon270.log\n"
     ]
    }
   ],
   "source": [
    "sort_idx = np.argsort(alldata_chi)\n",
    "for chi,l in zip(np.sort(alldata_chi),log_files[sort_idx]):\n",
    "    print(chi,l)"
   ]
  },
  {
   "cell_type": "code",
   "execution_count": 15,
   "metadata": {},
   "outputs": [
    {
     "name": "stdout",
     "output_type": "stream",
     "text": [
      "8.948056 /home/rcannon/Code/Radar/2024on/init_ps/logfiles/lat+60lon300.log\n",
      "9.250947 /home/rcannon/Code/Radar/2024on/init_ps/logfiles/lat+30lon330.log\n",
      "9.816491 /home/rcannon/Code/Radar/2024on/init_ps/logfiles/lat-30lon180.log\n",
      "9.874145 /home/rcannon/Code/Radar/2024on/init_ps/logfiles/lat-30lon120.log\n",
      "9.924513 /home/rcannon/Code/Radar/2024on/init_ps/logfiles/lat-30lon150.log\n",
      "10.372055 /home/rcannon/Code/Radar/2024on/init_ps/logfiles/lat+30lon030.log\n",
      "10.833651 /home/rcannon/Code/Radar/2024on/init_ps/logfiles/lat+00lon210.log\n",
      "10.838756 /home/rcannon/Code/Radar/2024on/init_ps/logfiles/lat-60lon060.log\n",
      "10.864149 /home/rcannon/Code/Radar/2024on/init_ps/logfiles/lat+60lon000.log\n",
      "10.930168 /home/rcannon/Code/Radar/2024on/init_ps/logfiles/lat+30lon300.log\n",
      "11.12134 /home/rcannon/Code/Radar/2024on/init_ps/logfiles/lat+00lon300.log\n",
      "11.128076 /home/rcannon/Code/Radar/2024on/init_ps/logfiles/lat+30lon060.log\n",
      "11.129253 /home/rcannon/Code/Radar/2024on/init_ps/logfiles/lat-30lon210.log\n",
      "11.183412 /home/rcannon/Code/Radar/2024on/init_ps/logfiles/lat+00lon120.log\n",
      "11.302052 /home/rcannon/Code/Radar/2024on/init_ps/logfiles/lat+60lon060.log\n",
      "11.407984 /home/rcannon/Code/Radar/2024on/init_ps/logfiles/lat+00lon000.log\n",
      "11.477417 /home/rcannon/Code/Radar/2024on/init_ps/logfiles/lat+00lon270.log\n",
      "11.629852 /home/rcannon/Code/Radar/2024on/init_ps/logfiles/lat-30lon300.log\n",
      "11.774759 /home/rcannon/Code/Radar/2024on/init_ps/logfiles/lat+00lon090.log\n",
      "11.801095 /home/rcannon/Code/Radar/2024on/init_ps/logfiles/lat+30lon150.log\n",
      "11.847257 /home/rcannon/Code/Radar/2024on/init_ps/logfiles/lat+00lon330.log\n",
      "11.956079 /home/rcannon/Code/Radar/2024on/init_ps/logfiles/lat+30lon000.log\n",
      "11.961217 /home/rcannon/Code/Radar/2024on/init_ps/logfiles/lat-30lon060.log\n",
      "11.966693 /home/rcannon/Code/Radar/2024on/init_ps/logfiles/lat-30lon030.log\n",
      "11.96802 /home/rcannon/Code/Radar/2024on/init_ps/logfiles/lat-30lon270.log\n",
      "12.067471 /home/rcannon/Code/Radar/2024on/init_ps/logfiles/lat+00lon240.log\n",
      "12.098906 /home/rcannon/Code/Radar/2024on/init_ps/logfiles/lat+30lon120.log\n",
      "12.166123 /home/rcannon/Code/Radar/2024on/init_ps/logfiles/lat-30lon240.log\n",
      "12.275213 /home/rcannon/Code/Radar/2024on/init_ps/logfiles/lat-60lon180.log\n",
      "12.311448 /home/rcannon/Code/Radar/2024on/init_ps/logfiles/lat+00lon150.log\n",
      "12.334194 /home/rcannon/Code/Radar/2024on/init_ps/logfiles/lat-30lon090.log\n",
      "12.339697 /home/rcannon/Code/Radar/2024on/init_ps/logfiles/lat+30lon270.log\n",
      "12.436619 /home/rcannon/Code/Radar/2024on/init_ps/logfiles/lat+30lon090.log\n",
      "12.543493 /home/rcannon/Code/Radar/2024on/init_ps/logfiles/lat+00lon060.log\n",
      "12.59811 /home/rcannon/Code/Radar/2024on/init_ps/logfiles/lat+30lon180.log\n",
      "12.7398 /home/rcannon/Code/Radar/2024on/init_ps/logfiles/lat+60lon240.log\n",
      "12.770964 /home/rcannon/Code/Radar/2024on/init_ps/logfiles/lat-30lon000.log\n",
      "12.818335 /home/rcannon/Code/Radar/2024on/init_ps/logfiles/lat+90lon000.log\n",
      "12.880352 /home/rcannon/Code/Radar/2024on/init_ps/logfiles/lat-60lon300.log\n",
      "13.032984 /home/rcannon/Code/Radar/2024on/init_ps/logfiles/lat+60lon120.log\n",
      "13.073421 /home/rcannon/Code/Radar/2024on/init_ps/logfiles/lat+30lon210.log\n",
      "13.158723 /home/rcannon/Code/Radar/2024on/init_ps/logfiles/lat-60lon120.log\n",
      "13.250149 /home/rcannon/Code/Radar/2024on/init_ps/logfiles/lat-60lon240.log\n",
      "13.438219 /home/rcannon/Code/Radar/2024on/init_ps/logfiles/lat+60lon180.log\n",
      "13.468701 /home/rcannon/Code/Radar/2024on/init_ps/logfiles/lat+30lon240.log\n",
      "13.649372 /home/rcannon/Code/Radar/2024on/init_ps/logfiles/lat+00lon030.log\n",
      "13.702598 /home/rcannon/Code/Radar/2024on/init_ps/logfiles/lat-30lon330.log\n",
      "13.965303 /home/rcannon/Code/Radar/2024on/init_ps/logfiles/lat+00lon180.log\n",
      "14.004689 /home/rcannon/Code/Radar/2024on/init_ps/logfiles/lat-60lon000.log\n"
     ]
    }
   ],
   "source": [
    "sort_idx = np.argsort(dd_chi)\n",
    "for chi,l in zip(np.sort(dd_chi),log_files[sort_idx]):\n",
    "    print(chi,l)"
   ]
  },
  {
   "cell_type": "code",
   "execution_count": 8,
   "metadata": {},
   "outputs": [
    {
     "name": "stdout",
     "output_type": "stream",
     "text": [
      "1.794496 /home/rcannon/Code/Radar/2000rs11/v03/v500eq/logfiles/lat-70lon216.log\n",
      "2.666867 /home/rcannon/Code/Radar/2000rs11/v03/v500eq/logfiles/lat-80lon204.log\n",
      "3.009705 /home/rcannon/Code/Radar/2000rs11/v03/v500eq/logfiles/lat-65lon240.log\n",
      "3.416789 /home/rcannon/Code/Radar/2000rs11/v03/v500eq/logfiles/lat-70lon270.log\n",
      "3.611823 /home/rcannon/Code/Radar/2000rs11/v03/v500eq/logfiles/lat-65lon290.log\n",
      "3.674838 /home/rcannon/Code/Radar/2000rs11/v03/v500eq/logfiles/lat-65lon280.log\n",
      "3.761427 /home/rcannon/Code/Radar/2000rs11/v03/v500eq/logfiles/lat-70lon288.log\n",
      "3.778326 /home/rcannon/Code/Radar/2000rs11/v03/v500eq/logfiles/lat-60lon284.log\n",
      "3.923695 /home/rcannon/Code/Radar/2000rs11/v03/v500eq/logfiles/lat-75lon225.log\n",
      "4.030217 /home/rcannon/Code/Radar/2000rs11/v03/v500eq/logfiles/lat-65lon250.log\n",
      "4.033562 /home/rcannon/Code/Radar/2000rs11/v03/v500eq/logfiles/lat-70lon228.log\n",
      "4.123128 /home/rcannon/Code/Radar/2000rs11/v03/v500eq/logfiles/lat-65lon230.log\n",
      "4.310803 /home/rcannon/Code/Radar/2000rs11/v03/v500eq/logfiles/lat-70lon204.log\n",
      "4.505057 /home/rcannon/Code/Radar/2000rs11/v03/v500eq/logfiles/lat-70lon276.log\n",
      "4.627552 /home/rcannon/Code/Radar/2000rs11/v03/v500eq/logfiles/lat-60lon276.log\n",
      "5.260278 /home/rcannon/Code/Radar/2000rs11/v03/v500eq/logfiles/lat-70lon264.log\n",
      "5.298484 /home/rcannon/Code/Radar/2000rs11/v03/v500eq/logfiles/lat-75lon285.log\n",
      "5.498056 /home/rcannon/Code/Radar/2000rs11/v03/v500eq/logfiles/lat-65lon260.log\n",
      "5.517514 /home/rcannon/Code/Radar/2000rs11/v03/v500eq/logfiles/lat-70lon240.log\n",
      "5.575531 /home/rcannon/Code/Radar/2000rs11/v03/v500eq/logfiles/lat-75lon255.log\n",
      "5.718833 /home/rcannon/Code/Radar/2000rs11/v03/v500eq/logfiles/lat-70lon252.log\n",
      "5.908748 /home/rcannon/Code/Radar/2000rs11/v03/v500eq/logfiles/lat-75lon270.log\n",
      "6.061512 /home/rcannon/Code/Radar/2000rs11/v03/v500eq/logfiles/lat-70lon192.log\n",
      "6.327224 /home/rcannon/Code/Radar/2000rs11/v03/v500eq/logfiles/lat-70lon210.log\n",
      "6.708851 /home/rcannon/Code/Radar/2000rs11/v03/v500eq/logfiles/lat-65lon270.log\n",
      "6.880818 /home/rcannon/Code/Radar/2000rs11/v03/v500eq/logfiles/lat-65lon220.log\n",
      "6.902105 /home/rcannon/Code/Radar/2000rs11/v03/v500eq/logfiles/lat-60lon244.log\n",
      "7.003799 /home/rcannon/Code/Radar/2000rs11/v03/v500eq/logfiles/lat-75lon195.log\n",
      "7.490219 /home/rcannon/Code/Radar/2000rs11/v03/v500eq/logfiles/lat-80lon225.log\n",
      "8.437466 /home/rcannon/Code/Radar/2000rs11/v03/v500eq/logfiles/lat-75lon210.log\n",
      "9.119117 /home/rcannon/Code/Radar/2000rs11/v03/v500eq/logfiles/lat-75lon240.log\n",
      "9.743538 /home/rcannon/Code/Radar/2000rs11/v03/v500eq/logfiles/lat-60lon280.log\n"
     ]
    }
   ],
   "source": [
    "sort_idx = np.argsort(lc_chi)\n",
    "for chi,l in zip(np.sort(lc_chi),log_files[sort_idx]):\n",
    "    print(chi,l)"
   ]
  },
  {
   "cell_type": "code",
   "execution_count": 9,
   "metadata": {},
   "outputs": [
    {
     "name": "stdout",
     "output_type": "stream",
     "text": [
      "6.106579 /home/rcannon/Code/Radar/2000rs11/v03/v500eq/logfiles/lat-75lon240.log\n",
      "7.03726 /home/rcannon/Code/Radar/2000rs11/v03/v500eq/logfiles/lat-70lon210.log\n",
      "7.063047 /home/rcannon/Code/Radar/2000rs11/v03/v500eq/logfiles/lat-75lon210.log\n",
      "7.752679 /home/rcannon/Code/Radar/2000rs11/v03/v500eq/logfiles/lat-60lon244.log\n",
      "8.919943 /home/rcannon/Code/Radar/2000rs11/v03/v500eq/logfiles/lat-60lon280.log\n",
      "9.012495 /home/rcannon/Code/Radar/2000rs11/v03/v500eq/logfiles/lat-70lon252.log\n",
      "9.082505 /home/rcannon/Code/Radar/2000rs11/v03/v500eq/logfiles/lat-65lon220.log\n",
      "9.541889 /home/rcannon/Code/Radar/2000rs11/v03/v500eq/logfiles/lat-75lon195.log\n",
      "9.558882 /home/rcannon/Code/Radar/2000rs11/v03/v500eq/logfiles/lat-70lon228.log\n",
      "10.122262 /home/rcannon/Code/Radar/2000rs11/v03/v500eq/logfiles/lat-70lon276.log\n",
      "10.441541 /home/rcannon/Code/Radar/2000rs11/v03/v500eq/logfiles/lat-70lon192.log\n",
      "11.303646 /home/rcannon/Code/Radar/2000rs11/v03/v500eq/logfiles/lat-65lon250.log\n",
      "12.285553 /home/rcannon/Code/Radar/2000rs11/v03/v500eq/logfiles/lat-60lon276.log\n",
      "12.4434 /home/rcannon/Code/Radar/2000rs11/v03/v500eq/logfiles/lat-65lon230.log\n",
      "16.604976 /home/rcannon/Code/Radar/2000rs11/v03/v500eq/logfiles/lat-65lon260.log\n",
      "17.257357 /home/rcannon/Code/Radar/2000rs11/v03/v500eq/logfiles/lat-70lon288.log\n",
      "17.284078 /home/rcannon/Code/Radar/2000rs11/v03/v500eq/logfiles/lat-75lon225.log\n",
      "18.327601 /home/rcannon/Code/Radar/2000rs11/v03/v500eq/logfiles/lat-65lon280.log\n",
      "19.88507 /home/rcannon/Code/Radar/2000rs11/v03/v500eq/logfiles/lat-60lon284.log\n",
      "20.036535 /home/rcannon/Code/Radar/2000rs11/v03/v500eq/logfiles/lat-70lon264.log\n",
      "25.585967 /home/rcannon/Code/Radar/2000rs11/v03/v500eq/logfiles/lat-65lon290.log\n",
      "25.644231 /home/rcannon/Code/Radar/2000rs11/v03/v500eq/logfiles/lat-70lon204.log\n",
      "27.278813 /home/rcannon/Code/Radar/2000rs11/v03/v500eq/logfiles/lat-65lon240.log\n",
      "28.835111 /home/rcannon/Code/Radar/2000rs11/v03/v500eq/logfiles/lat-70lon240.log\n",
      "29.973915 /home/rcannon/Code/Radar/2000rs11/v03/v500eq/logfiles/lat-80lon204.log\n",
      "30.115832 /home/rcannon/Code/Radar/2000rs11/v03/v500eq/logfiles/lat-75lon285.log\n",
      "34.295677 /home/rcannon/Code/Radar/2000rs11/v03/v500eq/logfiles/lat-70lon216.log\n",
      "39.102451 /home/rcannon/Code/Radar/2000rs11/v03/v500eq/logfiles/lat-75lon270.log\n",
      "43.64649 /home/rcannon/Code/Radar/2000rs11/v03/v500eq/logfiles/lat-80lon225.log\n",
      "46.94797 /home/rcannon/Code/Radar/2000rs11/v03/v500eq/logfiles/lat-70lon270.log\n",
      "47.075574 /home/rcannon/Code/Radar/2000rs11/v03/v500eq/logfiles/lat-75lon255.log\n",
      "56.954004 /home/rcannon/Code/Radar/2000rs11/v03/v500eq/logfiles/lat-65lon270.log\n"
     ]
    }
   ],
   "source": [
    "sort_idx = np.argsort(cw_chi)\n",
    "for chi,l in zip(np.sort(cw_chi),log_files[sort_idx]):\n",
    "    print(chi,l)"
   ]
  },
  {
   "cell_type": "code",
   "execution_count": null,
   "metadata": {},
   "outputs": [],
   "source": []
  }
 ],
 "metadata": {
  "kernelspec": {
   "display_name": "pyshape",
   "language": "python",
   "name": "python3"
  },
  "language_info": {
   "codemirror_mode": {
    "name": "ipython",
    "version": 3
   },
   "file_extension": ".py",
   "mimetype": "text/x-python",
   "name": "python",
   "nbconvert_exporter": "python",
   "pygments_lexer": "ipython3",
   "version": "3.13.2"
  }
 },
 "nbformat": 4,
 "nbformat_minor": 2
}
