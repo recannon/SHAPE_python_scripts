{
 "cells": [
  {
   "cell_type": "code",
   "execution_count": 1,
   "metadata": {},
   "outputs": [],
   "source": [
    "import sys\n",
    "sys.path.append('/home/rcannon/Code/Radar/python_scripts')"
   ]
  },
  {
   "cell_type": "code",
   "execution_count": 2,
   "metadata": {},
   "outputs": [],
   "source": [
    "from pyshape import mod_file"
   ]
  },
  {
   "cell_type": "code",
   "execution_count": 3,
   "metadata": {},
   "outputs": [],
   "source": [
    "f = '/home/rcannon/Code/Radar/2000rs11/PS_sh_5/SH01-HR/sh01-HR/mod.h.template'"
   ]
  },
  {
   "cell_type": "code",
   "execution_count": 5,
   "metadata": {},
   "outputs": [
    {
     "data": {
      "text/html": [
       "<pre style=\"white-space:pre;overflow-x:auto;line-height:normal;font-family:Menlo,'DejaVu Sans Mono',consolas,'Courier New',monospace\"><span style=\"color: #008080; text-decoration-color: #008080\">INFO    </span> | Reading <span style=\"color: #800080; text-decoration-color: #800080\">/home/rcannon/Code/Radar/2000rs11/PS_sh_5/SH01-HR/sh01-HR/</span><span style=\"color: #ff00ff; text-decoration-color: #ff00ff\">mod.h.template</span>                        \n",
       "</pre>\n"
      ],
      "text/plain": [
       "\u001b[36mINFO    \u001b[0m | Reading \u001b[35m/home/rcannon/Code/Radar/2000rs11/PS_sh_5/SH01-HR/sh01-HR/\u001b[0m\u001b[95mmod.h.template\u001b[0m                        \n"
      ]
     },
     "metadata": {},
     "output_type": "display_data"
    },
    {
     "data": {
      "text/html": [
       "<pre style=\"white-space:pre;overflow-x:auto;line-height:normal;font-family:Menlo,'DejaVu Sans Mono',consolas,'Courier New',monospace\"><span style=\"color: #008080; text-decoration-color: #008080\">INFO    </span> | <span style=\"color: #008080; text-decoration-color: #008080; font-weight: bold\">1</span> components                                                                                            \n",
       "</pre>\n"
      ],
      "text/plain": [
       "\u001b[36mINFO    \u001b[0m | \u001b[1;36m1\u001b[0m components                                                                                            \n"
      ]
     },
     "metadata": {},
     "output_type": "display_data"
    },
    {
     "data": {
      "text/html": [
       "<pre style=\"white-space:pre;overflow-x:auto;line-height:normal;font-family:Menlo,'DejaVu Sans Mono',consolas,'Courier New',monospace\"><span style=\"color: #008080; text-decoration-color: #008080\">INFO    </span> | <span style=\"color: #008080; text-decoration-color: #008080; font-weight: bold\">2</span> radar scattering laws                                                                                 \n",
       "</pre>\n"
      ],
      "text/plain": [
       "\u001b[36mINFO    \u001b[0m | \u001b[1;36m2\u001b[0m radar scattering laws                                                                                 \n"
      ]
     },
     "metadata": {},
     "output_type": "display_data"
    },
    {
     "data": {
      "text/html": [
       "<pre style=\"white-space:pre;overflow-x:auto;line-height:normal;font-family:Menlo,'DejaVu Sans Mono',consolas,'Courier New',monospace\"><span style=\"color: #008080; text-decoration-color: #008080\">INFO    </span> | <span style=\"color: #008080; text-decoration-color: #008080; font-weight: bold\">1</span> optical scattering laws                                                                               \n",
       "</pre>\n"
      ],
      "text/plain": [
       "\u001b[36mINFO    \u001b[0m | \u001b[1;36m1\u001b[0m optical scattering laws                                                                               \n"
      ]
     },
     "metadata": {},
     "output_type": "display_data"
    }
   ],
   "source": [
    "x = mod_file.read(f)"
   ]
  },
  {
   "cell_type": "code",
   "execution_count": 8,
   "metadata": {},
   "outputs": [
    {
     "data": {
      "text/plain": [
       "['f',\n",
       " 'f',\n",
       " 'f',\n",
       " 'f',\n",
       " 'f',\n",
       " 'f',\n",
       " 'f',\n",
       " 'f',\n",
       " 'f',\n",
       " 'f',\n",
       " 'f',\n",
       " 'f',\n",
       " 'f',\n",
       " 'f',\n",
       " 'f',\n",
       " 'f',\n",
       " 'f',\n",
       " 'f',\n",
       " 'f',\n",
       " 'f',\n",
       " 'f',\n",
       " 'f',\n",
       " 'f',\n",
       " 'f',\n",
       " 'f']"
      ]
     },
     "execution_count": 8,
     "metadata": {},
     "output_type": "execute_result"
    }
   ],
   "source": [
    "x.components[0].freeze_state.coeffs"
   ]
  },
  {
   "cell_type": "code",
   "execution_count": 12,
   "metadata": {},
   "outputs": [
    {
     "name": "stdout",
     "output_type": "stream",
     "text": [
      "Submitted batch job 9788950\n"
     ]
    },
    {
     "data": {
      "text/plain": [
       "CompletedProcess(args=['sbatch', '--array=1-288', '/home/rcannon/Code/Radar/python_scripts/launch_fitting.sbatch', '0 5 10 15 20 25 30 35 40 45 50 55 60 65 70 75 80 85 90 95 100 105 110 115 120 125 130 135 140 145 150 155 160 165 170 175 180 185 190 195 200 205 210 215 220 225 230 235 240 245 250 255 260 265 270 275 280 285 290 295 300 305 310 315 320 325 330 335 340 345 350 355 360'], returncode=0)"
      ]
     },
     "execution_count": 12,
     "metadata": {},
     "output_type": "execute_result"
    }
   ],
   "source": [
    "import subprocess\n",
    "import os\n",
    "import numpy as np\n",
    "\n",
    "a2_list = np.arange(0,365,5)\n",
    "a2_strs = [str(angle) for angle in a2_list]\n",
    "script_dir = \"/home/rcannon/Code/Radar/2000rs11/PS_sh_5/SH01-HR/sh01-HR\"\n",
    "launch_script = \"/home/rcannon/Code/Radar/python_scripts/launch_fitting.sbatch\"\n",
    "no_files = 288  \n",
    "\n",
    "subprocess.run(\n",
    "    [\"sbatch\", f\"--array=1-{no_files}\", launch_script, ' '.join(a2_strs)],\n",
    "    cwd=script_dir  # 👈 run it *from* that directory\n",
    ")\n"
   ]
  },
  {
   "cell_type": "code",
   "execution_count": 13,
   "metadata": {},
   "outputs": [
    {
     "name": "stdout",
     "output_type": "stream",
     "text": [
      "0 5 10 15 20 25 30 35 40 45 50 55 60 65 70 75 80 85 90 95 100 105 110 115 120 125 130 135 140 145 150 155 160 165 170 175 180 185 190 195 200 205 210 215 220 225 230 235 240 245 250 255 260 265 270 275 280 285 290 295 300 305 310 315 320 325 330 335 340 345 350 355 360\n"
     ]
    }
   ],
   "source": [
    "print(' '.join(a2_strs))"
   ]
  },
  {
   "cell_type": "code",
   "execution_count": null,
   "metadata": {},
   "outputs": [],
   "source": []
  }
 ],
 "metadata": {
  "kernelspec": {
   "display_name": "pyshape",
   "language": "python",
   "name": "python3"
  },
  "language_info": {
   "codemirror_mode": {
    "name": "ipython",
    "version": 3
   },
   "file_extension": ".py",
   "mimetype": "text/x-python",
   "name": "python",
   "nbconvert_exporter": "python",
   "pygments_lexer": "ipython3",
   "version": "3.13.2"
  }
 },
 "nbformat": 4,
 "nbformat_minor": 2
}
